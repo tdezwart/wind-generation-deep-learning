{
 "cells": [
  {
   "cell_type": "code",
   "execution_count": 1,
   "metadata": {},
   "outputs": [],
   "source": [
    "import pandas as pd\n",
    "import numpy as np"
   ]
  },
  {
   "cell_type": "code",
   "execution_count": 2,
   "metadata": {},
   "outputs": [],
   "source": [
    "# Helper function to import windfarm data\n",
    "def import_windfarm(filename):\n",
    "    df = pd.read_csv(filename)\n",
    "    df['Date'] = pd.to_datetime(df['Date']) # convert dates\n",
    "    df.drop('Direction (deg)', axis=1, inplace=True) # drop wind direction\n",
    "    df.rename(columns={'Speed (m/s)':'Loc_wind_speed', 'Energy (kWh)':'True_output'}, inplace=True)\n",
    "    \n",
    "    return df"
   ]
  },
  {
   "cell_type": "code",
   "execution_count": 3,
   "metadata": {},
   "outputs": [
    {
     "data": {
      "text/html": [
       "<div>\n",
       "<style scoped>\n",
       "    .dataframe tbody tr th:only-of-type {\n",
       "        vertical-align: middle;\n",
       "    }\n",
       "\n",
       "    .dataframe tbody tr th {\n",
       "        vertical-align: top;\n",
       "    }\n",
       "\n",
       "    .dataframe thead th {\n",
       "        text-align: right;\n",
       "    }\n",
       "</style>\n",
       "<table border=\"1\" class=\"dataframe\">\n",
       "  <thead>\n",
       "    <tr style=\"text-align: right;\">\n",
       "      <th></th>\n",
       "      <th>Date</th>\n",
       "      <th>Loc_wind_speed</th>\n",
       "      <th>True_output</th>\n",
       "    </tr>\n",
       "  </thead>\n",
       "  <tbody>\n",
       "    <tr>\n",
       "      <th>0</th>\n",
       "      <td>2017-01-01 01:00:00</td>\n",
       "      <td>4.92</td>\n",
       "      <td>0</td>\n",
       "    </tr>\n",
       "    <tr>\n",
       "      <th>1</th>\n",
       "      <td>2017-01-01 02:00:00</td>\n",
       "      <td>4.86</td>\n",
       "      <td>0</td>\n",
       "    </tr>\n",
       "    <tr>\n",
       "      <th>2</th>\n",
       "      <td>2017-01-01 03:00:00</td>\n",
       "      <td>5.26</td>\n",
       "      <td>0</td>\n",
       "    </tr>\n",
       "    <tr>\n",
       "      <th>3</th>\n",
       "      <td>2017-01-01 04:00:00</td>\n",
       "      <td>5.1</td>\n",
       "      <td>0</td>\n",
       "    </tr>\n",
       "    <tr>\n",
       "      <th>4</th>\n",
       "      <td>2017-01-01 05:00:00</td>\n",
       "      <td>5.03</td>\n",
       "      <td>0</td>\n",
       "    </tr>\n",
       "  </tbody>\n",
       "</table>\n",
       "</div>"
      ],
      "text/plain": [
       "                 Date Loc_wind_speed True_output\n",
       "0 2017-01-01 01:00:00           4.92           0\n",
       "1 2017-01-01 02:00:00           4.86           0\n",
       "2 2017-01-01 03:00:00           5.26           0\n",
       "3 2017-01-01 04:00:00            5.1           0\n",
       "4 2017-01-01 05:00:00           5.03           0"
      ]
     },
     "execution_count": 3,
     "metadata": {},
     "output_type": "execute_result"
    }
   ],
   "source": [
    "# Import training data for the windfarm\n",
    "sotavento_train = import_windfarm(\"data/sotavento_1718.csv\")\n",
    "sotavento_train.head()"
   ]
  },
  {
   "cell_type": "code",
   "execution_count": 4,
   "metadata": {},
   "outputs": [
    {
     "data": {
      "text/html": [
       "<div>\n",
       "<style scoped>\n",
       "    .dataframe tbody tr th:only-of-type {\n",
       "        vertical-align: middle;\n",
       "    }\n",
       "\n",
       "    .dataframe tbody tr th {\n",
       "        vertical-align: top;\n",
       "    }\n",
       "\n",
       "    .dataframe thead th {\n",
       "        text-align: right;\n",
       "    }\n",
       "</style>\n",
       "<table border=\"1\" class=\"dataframe\">\n",
       "  <thead>\n",
       "    <tr style=\"text-align: right;\">\n",
       "      <th></th>\n",
       "      <th>Date</th>\n",
       "      <th>Loc_wind_speed</th>\n",
       "      <th>True_output</th>\n",
       "    </tr>\n",
       "  </thead>\n",
       "  <tbody>\n",
       "    <tr>\n",
       "      <th>0</th>\n",
       "      <td>2018-01-10 01:00:00</td>\n",
       "      <td>8.16</td>\n",
       "      <td>9035.64</td>\n",
       "    </tr>\n",
       "    <tr>\n",
       "      <th>1</th>\n",
       "      <td>2018-01-10 02:00:00</td>\n",
       "      <td>7.39</td>\n",
       "      <td>7802.97</td>\n",
       "    </tr>\n",
       "    <tr>\n",
       "      <th>2</th>\n",
       "      <td>2018-01-10 03:00:00</td>\n",
       "      <td>7.42</td>\n",
       "      <td>7171.58</td>\n",
       "    </tr>\n",
       "    <tr>\n",
       "      <th>3</th>\n",
       "      <td>2018-01-10 04:00:00</td>\n",
       "      <td>7.79</td>\n",
       "      <td>6354.43</td>\n",
       "    </tr>\n",
       "    <tr>\n",
       "      <th>4</th>\n",
       "      <td>2018-01-10 05:00:00</td>\n",
       "      <td>8.59</td>\n",
       "      <td>7184.31</td>\n",
       "    </tr>\n",
       "  </tbody>\n",
       "</table>\n",
       "</div>"
      ],
      "text/plain": [
       "                 Date  Loc_wind_speed  True_output\n",
       "0 2018-01-10 01:00:00            8.16      9035.64\n",
       "1 2018-01-10 02:00:00            7.39      7802.97\n",
       "2 2018-01-10 03:00:00            7.42      7171.58\n",
       "3 2018-01-10 04:00:00            7.79      6354.43\n",
       "4 2018-01-10 05:00:00            8.59      7184.31"
      ]
     },
     "execution_count": 4,
     "metadata": {},
     "output_type": "execute_result"
    }
   ],
   "source": [
    "# Import testing data for the windfarm\n",
    "sotavento_test = import_windfarm(\"data/sotavento_test.csv\")\n",
    "sotavento_test.head()"
   ]
  },
  {
   "cell_type": "code",
   "execution_count": 5,
   "metadata": {},
   "outputs": [],
   "source": [
    "# Helper function for importing weather data\n",
    "def weather_data(filename, abbreviation):\n",
    "    df = pd.read_csv(filename)\n",
    "    df.rename(columns={df.columns[0]: 'Date' }, inplace = True) # rename first column to \"Date\"\n",
    "    df = df[['Date', 'T', 'P', 'U', 'Ff']] # filter dataframe\n",
    "    df.columns = ['Date', abbreviation+'_temp', abbreviation+'_press', abbreviation+'_hum', abbreviation+'_wind']\n",
    "    df['Date'] = pd.to_datetime(df['Date']) # convert dates\n",
    "    df.sort_values(by='Date', inplace=True)\n",
    "    \n",
    "    return df"
   ]
  },
  {
   "cell_type": "code",
   "execution_count": 6,
   "metadata": {},
   "outputs": [],
   "source": [
    "# Import all the weather data\n",
    "asturias = weather_data(\"data/weather_asturias.csv\", \"AST\")\n",
    "compostela = weather_data(\"data/weather_compostela.csv\", \"COM\")\n",
    "coruna = weather_data(\"data/weather_coruna.csv\", \"COR\")\n",
    "vigo = weather_data(\"data/weather_vigo.csv\", \"VIG\")"
   ]
  },
  {
   "cell_type": "code",
   "execution_count": 7,
   "metadata": {},
   "outputs": [],
   "source": [
    "# Create a list of all the cities for merging purposes\n",
    "cities = [asturias, compostela, coruna, vigo]"
   ]
  },
  {
   "cell_type": "code",
   "execution_count": 8,
   "metadata": {},
   "outputs": [],
   "source": [
    "# Helper function for merging dataframes\n",
    "def merge_data(base, cities_list, shift_hours):\n",
    "    df = base.copy()\n",
    "    for city in cities:\n",
    "        df = pd.merge(df, city, how=\"left\", on='Date')\n",
    "        \n",
    "    df.drop(df[df['Date'].duplicated()==True].index, inplace=True) #drop all duplicate dates\n",
    "    \n",
    "    cols = df.columns.tolist()\n",
    "    cols = cols[0:2] + cols[3:-1] + cols[2:3] # re-order columns so output is at the end\n",
    "    df = df[cols]\n",
    "    df.set_index('Date', inplace=True) # set the data as index\n",
    "    \n",
    "    df['Future_output'] = df['True_output'].shift(-shift_hours) # lag the output to predict for the future\n",
    "    df.replace(\"-\", np.nan, inplace=True) # convert hyphens to NaN\n",
    "    df.dropna(inplace=True) # drop all NaN's\n",
    "    df = df.astype(float) # convert numbers to floats\n",
    "    \n",
    "    return df"
   ]
  },
  {
   "cell_type": "code",
   "execution_count": 9,
   "metadata": {},
   "outputs": [],
   "source": [
    "# Set amount of hours that we want to predict in advance\n",
    "hours = 3"
   ]
  },
  {
   "cell_type": "code",
   "execution_count": 10,
   "metadata": {},
   "outputs": [
    {
     "data": {
      "text/html": [
       "<div>\n",
       "<style scoped>\n",
       "    .dataframe tbody tr th:only-of-type {\n",
       "        vertical-align: middle;\n",
       "    }\n",
       "\n",
       "    .dataframe tbody tr th {\n",
       "        vertical-align: top;\n",
       "    }\n",
       "\n",
       "    .dataframe thead th {\n",
       "        text-align: right;\n",
       "    }\n",
       "</style>\n",
       "<table border=\"1\" class=\"dataframe\">\n",
       "  <thead>\n",
       "    <tr style=\"text-align: right;\">\n",
       "      <th></th>\n",
       "      <th>Loc_wind_speed</th>\n",
       "      <th>AST_temp</th>\n",
       "      <th>AST_press</th>\n",
       "      <th>AST_hum</th>\n",
       "      <th>AST_wind</th>\n",
       "      <th>COM_temp</th>\n",
       "      <th>COM_press</th>\n",
       "      <th>COM_hum</th>\n",
       "      <th>COM_wind</th>\n",
       "      <th>COR_temp</th>\n",
       "      <th>COR_press</th>\n",
       "      <th>COR_hum</th>\n",
       "      <th>COR_wind</th>\n",
       "      <th>VIG_temp</th>\n",
       "      <th>VIG_press</th>\n",
       "      <th>VIG_hum</th>\n",
       "      <th>True_output</th>\n",
       "      <th>Future_output</th>\n",
       "    </tr>\n",
       "    <tr>\n",
       "      <th>Date</th>\n",
       "      <th></th>\n",
       "      <th></th>\n",
       "      <th></th>\n",
       "      <th></th>\n",
       "      <th></th>\n",
       "      <th></th>\n",
       "      <th></th>\n",
       "      <th></th>\n",
       "      <th></th>\n",
       "      <th></th>\n",
       "      <th></th>\n",
       "      <th></th>\n",
       "      <th></th>\n",
       "      <th></th>\n",
       "      <th></th>\n",
       "      <th></th>\n",
       "      <th></th>\n",
       "      <th></th>\n",
       "    </tr>\n",
       "  </thead>\n",
       "  <tbody>\n",
       "    <tr>\n",
       "      <th>2017-01-01 01:00:00</th>\n",
       "      <td>4.92</td>\n",
       "      <td>3.9</td>\n",
       "      <td>772.2</td>\n",
       "      <td>89.0</td>\n",
       "      <td>4.0</td>\n",
       "      <td>0.1</td>\n",
       "      <td>773.1</td>\n",
       "      <td>100.0</td>\n",
       "      <td>2.0</td>\n",
       "      <td>4.0</td>\n",
       "      <td>771.9</td>\n",
       "      <td>100.0</td>\n",
       "      <td>2.0</td>\n",
       "      <td>6.0</td>\n",
       "      <td>771.1</td>\n",
       "      <td>87.0</td>\n",
       "      <td>0.0</td>\n",
       "      <td>0.0</td>\n",
       "    </tr>\n",
       "    <tr>\n",
       "      <th>2017-01-01 02:00:00</th>\n",
       "      <td>4.86</td>\n",
       "      <td>3.4</td>\n",
       "      <td>771.4</td>\n",
       "      <td>90.0</td>\n",
       "      <td>5.0</td>\n",
       "      <td>-0.5</td>\n",
       "      <td>772.6</td>\n",
       "      <td>100.0</td>\n",
       "      <td>1.0</td>\n",
       "      <td>3.0</td>\n",
       "      <td>771.1</td>\n",
       "      <td>100.0</td>\n",
       "      <td>3.0</td>\n",
       "      <td>5.0</td>\n",
       "      <td>771.1</td>\n",
       "      <td>93.0</td>\n",
       "      <td>0.0</td>\n",
       "      <td>0.0</td>\n",
       "    </tr>\n",
       "    <tr>\n",
       "      <th>2017-01-01 03:00:00</th>\n",
       "      <td>5.26</td>\n",
       "      <td>2.9</td>\n",
       "      <td>771.3</td>\n",
       "      <td>90.0</td>\n",
       "      <td>3.0</td>\n",
       "      <td>-1.1</td>\n",
       "      <td>772.5</td>\n",
       "      <td>100.0</td>\n",
       "      <td>1.0</td>\n",
       "      <td>4.0</td>\n",
       "      <td>771.1</td>\n",
       "      <td>100.0</td>\n",
       "      <td>2.0</td>\n",
       "      <td>5.0</td>\n",
       "      <td>770.4</td>\n",
       "      <td>87.0</td>\n",
       "      <td>0.0</td>\n",
       "      <td>0.0</td>\n",
       "    </tr>\n",
       "    <tr>\n",
       "      <th>2017-01-01 04:00:00</th>\n",
       "      <td>5.10</td>\n",
       "      <td>2.2</td>\n",
       "      <td>771.1</td>\n",
       "      <td>91.0</td>\n",
       "      <td>3.0</td>\n",
       "      <td>1.1</td>\n",
       "      <td>772.0</td>\n",
       "      <td>100.0</td>\n",
       "      <td>0.0</td>\n",
       "      <td>4.0</td>\n",
       "      <td>770.4</td>\n",
       "      <td>100.0</td>\n",
       "      <td>1.0</td>\n",
       "      <td>4.0</td>\n",
       "      <td>770.4</td>\n",
       "      <td>93.0</td>\n",
       "      <td>0.0</td>\n",
       "      <td>0.0</td>\n",
       "    </tr>\n",
       "    <tr>\n",
       "      <th>2017-01-01 05:00:00</th>\n",
       "      <td>5.03</td>\n",
       "      <td>2.3</td>\n",
       "      <td>770.8</td>\n",
       "      <td>88.0</td>\n",
       "      <td>3.0</td>\n",
       "      <td>-1.4</td>\n",
       "      <td>772.0</td>\n",
       "      <td>100.0</td>\n",
       "      <td>0.0</td>\n",
       "      <td>4.0</td>\n",
       "      <td>770.4</td>\n",
       "      <td>100.0</td>\n",
       "      <td>1.0</td>\n",
       "      <td>5.0</td>\n",
       "      <td>769.6</td>\n",
       "      <td>87.0</td>\n",
       "      <td>0.0</td>\n",
       "      <td>0.0</td>\n",
       "    </tr>\n",
       "  </tbody>\n",
       "</table>\n",
       "</div>"
      ],
      "text/plain": [
       "                     Loc_wind_speed  AST_temp  AST_press  AST_hum  AST_wind  \\\n",
       "Date                                                                          \n",
       "2017-01-01 01:00:00            4.92       3.9      772.2     89.0       4.0   \n",
       "2017-01-01 02:00:00            4.86       3.4      771.4     90.0       5.0   \n",
       "2017-01-01 03:00:00            5.26       2.9      771.3     90.0       3.0   \n",
       "2017-01-01 04:00:00            5.10       2.2      771.1     91.0       3.0   \n",
       "2017-01-01 05:00:00            5.03       2.3      770.8     88.0       3.0   \n",
       "\n",
       "                     COM_temp  COM_press  COM_hum  COM_wind  COR_temp  \\\n",
       "Date                                                                    \n",
       "2017-01-01 01:00:00       0.1      773.1    100.0       2.0       4.0   \n",
       "2017-01-01 02:00:00      -0.5      772.6    100.0       1.0       3.0   \n",
       "2017-01-01 03:00:00      -1.1      772.5    100.0       1.0       4.0   \n",
       "2017-01-01 04:00:00       1.1      772.0    100.0       0.0       4.0   \n",
       "2017-01-01 05:00:00      -1.4      772.0    100.0       0.0       4.0   \n",
       "\n",
       "                     COR_press  COR_hum  COR_wind  VIG_temp  VIG_press  \\\n",
       "Date                                                                     \n",
       "2017-01-01 01:00:00      771.9    100.0       2.0       6.0      771.1   \n",
       "2017-01-01 02:00:00      771.1    100.0       3.0       5.0      771.1   \n",
       "2017-01-01 03:00:00      771.1    100.0       2.0       5.0      770.4   \n",
       "2017-01-01 04:00:00      770.4    100.0       1.0       4.0      770.4   \n",
       "2017-01-01 05:00:00      770.4    100.0       1.0       5.0      769.6   \n",
       "\n",
       "                     VIG_hum  True_output  Future_output  \n",
       "Date                                                      \n",
       "2017-01-01 01:00:00     87.0          0.0            0.0  \n",
       "2017-01-01 02:00:00     93.0          0.0            0.0  \n",
       "2017-01-01 03:00:00     87.0          0.0            0.0  \n",
       "2017-01-01 04:00:00     93.0          0.0            0.0  \n",
       "2017-01-01 05:00:00     87.0          0.0            0.0  "
      ]
     },
     "execution_count": 10,
     "metadata": {},
     "output_type": "execute_result"
    }
   ],
   "source": [
    "# Make complete training data-set\n",
    "complete_train = merge_data(sotavento_train, cities, hours)\n",
    "complete_train.head()"
   ]
  },
  {
   "cell_type": "code",
   "execution_count": 11,
   "metadata": {},
   "outputs": [
    {
     "data": {
      "text/html": [
       "<div>\n",
       "<style scoped>\n",
       "    .dataframe tbody tr th:only-of-type {\n",
       "        vertical-align: middle;\n",
       "    }\n",
       "\n",
       "    .dataframe tbody tr th {\n",
       "        vertical-align: top;\n",
       "    }\n",
       "\n",
       "    .dataframe thead th {\n",
       "        text-align: right;\n",
       "    }\n",
       "</style>\n",
       "<table border=\"1\" class=\"dataframe\">\n",
       "  <thead>\n",
       "    <tr style=\"text-align: right;\">\n",
       "      <th></th>\n",
       "      <th>Loc_wind_speed</th>\n",
       "      <th>AST_temp</th>\n",
       "      <th>AST_press</th>\n",
       "      <th>AST_hum</th>\n",
       "      <th>AST_wind</th>\n",
       "      <th>COM_temp</th>\n",
       "      <th>COM_press</th>\n",
       "      <th>COM_hum</th>\n",
       "      <th>COM_wind</th>\n",
       "      <th>COR_temp</th>\n",
       "      <th>COR_press</th>\n",
       "      <th>COR_hum</th>\n",
       "      <th>COR_wind</th>\n",
       "      <th>VIG_temp</th>\n",
       "      <th>VIG_press</th>\n",
       "      <th>VIG_hum</th>\n",
       "      <th>True_output</th>\n",
       "      <th>Future_output</th>\n",
       "    </tr>\n",
       "    <tr>\n",
       "      <th>Date</th>\n",
       "      <th></th>\n",
       "      <th></th>\n",
       "      <th></th>\n",
       "      <th></th>\n",
       "      <th></th>\n",
       "      <th></th>\n",
       "      <th></th>\n",
       "      <th></th>\n",
       "      <th></th>\n",
       "      <th></th>\n",
       "      <th></th>\n",
       "      <th></th>\n",
       "      <th></th>\n",
       "      <th></th>\n",
       "      <th></th>\n",
       "      <th></th>\n",
       "      <th></th>\n",
       "      <th></th>\n",
       "    </tr>\n",
       "  </thead>\n",
       "  <tbody>\n",
       "    <tr>\n",
       "      <th>2018-01-10 01:00:00</th>\n",
       "      <td>8.16</td>\n",
       "      <td>15.1</td>\n",
       "      <td>769.4</td>\n",
       "      <td>89.0</td>\n",
       "      <td>1.0</td>\n",
       "      <td>12.7</td>\n",
       "      <td>768.1</td>\n",
       "      <td>84.0</td>\n",
       "      <td>1.0</td>\n",
       "      <td>15.0</td>\n",
       "      <td>768.1</td>\n",
       "      <td>82.0</td>\n",
       "      <td>2.0</td>\n",
       "      <td>16.0</td>\n",
       "      <td>765.8</td>\n",
       "      <td>72.0</td>\n",
       "      <td>9035.64</td>\n",
       "      <td>6354.43</td>\n",
       "    </tr>\n",
       "    <tr>\n",
       "      <th>2018-01-10 02:00:00</th>\n",
       "      <td>7.39</td>\n",
       "      <td>15.3</td>\n",
       "      <td>769.6</td>\n",
       "      <td>85.0</td>\n",
       "      <td>2.0</td>\n",
       "      <td>12.2</td>\n",
       "      <td>768.4</td>\n",
       "      <td>86.0</td>\n",
       "      <td>3.0</td>\n",
       "      <td>15.0</td>\n",
       "      <td>768.9</td>\n",
       "      <td>77.0</td>\n",
       "      <td>2.0</td>\n",
       "      <td>16.0</td>\n",
       "      <td>765.8</td>\n",
       "      <td>59.0</td>\n",
       "      <td>7802.97</td>\n",
       "      <td>7184.31</td>\n",
       "    </tr>\n",
       "    <tr>\n",
       "      <th>2018-01-10 03:00:00</th>\n",
       "      <td>7.42</td>\n",
       "      <td>15.2</td>\n",
       "      <td>770.0</td>\n",
       "      <td>80.0</td>\n",
       "      <td>2.0</td>\n",
       "      <td>12.1</td>\n",
       "      <td>768.6</td>\n",
       "      <td>86.0</td>\n",
       "      <td>2.0</td>\n",
       "      <td>15.0</td>\n",
       "      <td>768.9</td>\n",
       "      <td>82.0</td>\n",
       "      <td>2.0</td>\n",
       "      <td>15.0</td>\n",
       "      <td>765.8</td>\n",
       "      <td>63.0</td>\n",
       "      <td>7171.58</td>\n",
       "      <td>8953.40</td>\n",
       "    </tr>\n",
       "    <tr>\n",
       "      <th>2018-01-10 04:00:00</th>\n",
       "      <td>7.79</td>\n",
       "      <td>15.1</td>\n",
       "      <td>770.0</td>\n",
       "      <td>79.0</td>\n",
       "      <td>2.0</td>\n",
       "      <td>12.0</td>\n",
       "      <td>768.7</td>\n",
       "      <td>86.0</td>\n",
       "      <td>2.0</td>\n",
       "      <td>15.0</td>\n",
       "      <td>768.9</td>\n",
       "      <td>77.0</td>\n",
       "      <td>2.0</td>\n",
       "      <td>14.0</td>\n",
       "      <td>765.8</td>\n",
       "      <td>72.0</td>\n",
       "      <td>6354.43</td>\n",
       "      <td>8362.72</td>\n",
       "    </tr>\n",
       "    <tr>\n",
       "      <th>2018-01-10 05:00:00</th>\n",
       "      <td>8.59</td>\n",
       "      <td>14.7</td>\n",
       "      <td>769.8</td>\n",
       "      <td>81.0</td>\n",
       "      <td>2.0</td>\n",
       "      <td>12.2</td>\n",
       "      <td>768.3</td>\n",
       "      <td>82.0</td>\n",
       "      <td>2.0</td>\n",
       "      <td>15.0</td>\n",
       "      <td>768.9</td>\n",
       "      <td>77.0</td>\n",
       "      <td>3.0</td>\n",
       "      <td>14.0</td>\n",
       "      <td>765.8</td>\n",
       "      <td>72.0</td>\n",
       "      <td>7184.31</td>\n",
       "      <td>10841.92</td>\n",
       "    </tr>\n",
       "  </tbody>\n",
       "</table>\n",
       "</div>"
      ],
      "text/plain": [
       "                     Loc_wind_speed  AST_temp  AST_press  AST_hum  AST_wind  \\\n",
       "Date                                                                          \n",
       "2018-01-10 01:00:00            8.16      15.1      769.4     89.0       1.0   \n",
       "2018-01-10 02:00:00            7.39      15.3      769.6     85.0       2.0   \n",
       "2018-01-10 03:00:00            7.42      15.2      770.0     80.0       2.0   \n",
       "2018-01-10 04:00:00            7.79      15.1      770.0     79.0       2.0   \n",
       "2018-01-10 05:00:00            8.59      14.7      769.8     81.0       2.0   \n",
       "\n",
       "                     COM_temp  COM_press  COM_hum  COM_wind  COR_temp  \\\n",
       "Date                                                                    \n",
       "2018-01-10 01:00:00      12.7      768.1     84.0       1.0      15.0   \n",
       "2018-01-10 02:00:00      12.2      768.4     86.0       3.0      15.0   \n",
       "2018-01-10 03:00:00      12.1      768.6     86.0       2.0      15.0   \n",
       "2018-01-10 04:00:00      12.0      768.7     86.0       2.0      15.0   \n",
       "2018-01-10 05:00:00      12.2      768.3     82.0       2.0      15.0   \n",
       "\n",
       "                     COR_press  COR_hum  COR_wind  VIG_temp  VIG_press  \\\n",
       "Date                                                                     \n",
       "2018-01-10 01:00:00      768.1     82.0       2.0      16.0      765.8   \n",
       "2018-01-10 02:00:00      768.9     77.0       2.0      16.0      765.8   \n",
       "2018-01-10 03:00:00      768.9     82.0       2.0      15.0      765.8   \n",
       "2018-01-10 04:00:00      768.9     77.0       2.0      14.0      765.8   \n",
       "2018-01-10 05:00:00      768.9     77.0       3.0      14.0      765.8   \n",
       "\n",
       "                     VIG_hum  True_output  Future_output  \n",
       "Date                                                      \n",
       "2018-01-10 01:00:00     72.0      9035.64        6354.43  \n",
       "2018-01-10 02:00:00     59.0      7802.97        7184.31  \n",
       "2018-01-10 03:00:00     63.0      7171.58        8953.40  \n",
       "2018-01-10 04:00:00     72.0      6354.43        8362.72  \n",
       "2018-01-10 05:00:00     72.0      7184.31       10841.92  "
      ]
     },
     "execution_count": 11,
     "metadata": {},
     "output_type": "execute_result"
    }
   ],
   "source": [
    "# Make complete testing data-set\n",
    "complete_test = merge_data(sotavento_test, cities, hours)\n",
    "complete_test.head()"
   ]
  },
  {
   "cell_type": "code",
   "execution_count": 12,
   "metadata": {},
   "outputs": [],
   "source": [
    "from sklearn import preprocessing\n",
    "import sklearn"
   ]
  },
  {
   "cell_type": "code",
   "execution_count": 13,
   "metadata": {},
   "outputs": [],
   "source": [
    "# Create testing sets from dataframes\n",
    "complete_train_shuffled = sklearn.utils.shuffle(complete_train)\n",
    "\n",
    "X_train = complete_train_shuffled.drop(['True_output', 'Future_output'], axis=1).values\n",
    "y_train = complete_train_shuffled[['Future_output']].values\n",
    "\n",
    "X_train = preprocessing.scale(X_train)\n",
    "y_train = y_train / max(y_train)"
   ]
  },
  {
   "cell_type": "code",
   "execution_count": 14,
   "metadata": {},
   "outputs": [
    {
     "name": "stderr",
     "output_type": "stream",
     "text": [
      "Using TensorFlow backend.\n"
     ]
    }
   ],
   "source": [
    "from keras.models import Sequential\n",
    "from keras.layers import Dense, Dropout\n",
    "from keras.callbacks import EarlyStopping\n",
    "from keras.optimizers import Adam\n",
    "import keras"
   ]
  },
  {
   "cell_type": "code",
   "execution_count": null,
   "metadata": {},
   "outputs": [],
   "source": [
    "# Set up the neural network\n",
    "EPOCHS = 500\n",
    "\n",
    "model = Sequential()\n",
    "model.add(Dense(1024, input_dim=X_train.shape[1], activation=\"relu\"))\n",
    "model.add(Dropout(0.1))\n",
    "model.add(Dense(256, activation=\"relu\"))\n",
    "model.add(Dense(256, activation=\"relu\"))\n",
    "model.add(Dense(256, activation=\"relu\"))\n",
    "model.add(Dense(256, activation=\"relu\"))\n",
    "model.add(Dense(128, activation=\"relu\"))\n",
    "model.add(Dropout(0.1))\n",
    "model.add(Dense(1, activation=\"relu\"))\n",
    "\n",
    "optimizer = Adam(learning_rate=1e-5, decay=1e-5/EPOCHS, epsilon=0.1)\n",
    "early_stopping_monitor = EarlyStopping(monitor=\"val_loss\", patience=5)"
   ]
  },
  {
   "cell_type": "code",
   "execution_count": null,
   "metadata": {},
   "outputs": [],
   "source": [
    "# Compile the model\n",
    "model.compile(loss=\"mae\", optimizer=optimizer)"
   ]
  },
  {
   "cell_type": "code",
   "execution_count": null,
   "metadata": {
    "scrolled": true
   },
   "outputs": [],
   "source": [
    "# Train the model\n",
    "history = model.fit(X_train, y_train, epochs=EPOCHS, batch_size=32, validation_split=0.3, verbose=2, callbacks=[early_stopping_monitor])"
   ]
  },
  {
   "cell_type": "code",
   "execution_count": null,
   "metadata": {},
   "outputs": [],
   "source": [
    "# Obtain loss and val_loss history\n",
    "loss = history.history[\"loss\"]\n",
    "val_loss = history.history[\"val_loss\"]"
   ]
  },
  {
   "cell_type": "code",
   "execution_count": 15,
   "metadata": {},
   "outputs": [],
   "source": [
    "import matplotlib.pyplot as plt\n",
    "from matplotlib import style\n",
    "\n",
    "style.use(\"ggplot\")"
   ]
  },
  {
   "cell_type": "code",
   "execution_count": null,
   "metadata": {},
   "outputs": [],
   "source": [
    "# Plot loss history\n",
    "plt.figure(figsize=(10,5))\n",
    "plt.plot(loss, label=\"Loss\")\n",
    "plt.plot(val_loss, label=\"Validation loss\")\n",
    "plt.legend()\n",
    "plt.show()"
   ]
  },
  {
   "cell_type": "code",
   "execution_count": 17,
   "metadata": {},
   "outputs": [],
   "source": [
    "# Save (and load) the model\n",
    "#model.save(\"wind_predict_nn_01dropout_big_first_layer.h5\")\n",
    "model = keras.models.load_model(\"BEST_wind_predict_nn_01dropout_big_first_layer.h5\")"
   ]
  },
  {
   "cell_type": "code",
   "execution_count": 18,
   "metadata": {},
   "outputs": [],
   "source": [
    "# Create testing sets from dataframes\n",
    "X_test = complete_test.drop(['True_output', 'Future_output'], axis=1).values\n",
    "y_test = complete_test[['Future_output']].values\n",
    "\n",
    "y_scale = max(y_test) # save as scale factor for later\n",
    "\n",
    "X_test = preprocessing.scale(X_test)\n",
    "y_test = y_test / y_scale"
   ]
  },
  {
   "cell_type": "code",
   "execution_count": 19,
   "metadata": {},
   "outputs": [
    {
     "name": "stdout",
     "output_type": "stream",
     "text": [
      "2180/2180 [==============================] - 0s 46us/step\n"
     ]
    },
    {
     "data": {
      "text/plain": [
       "0.14782228070447956"
      ]
     },
     "execution_count": 19,
     "metadata": {},
     "output_type": "execute_result"
    }
   ],
   "source": [
    "model.evaluate(X_test, y_test)"
   ]
  },
  {
   "cell_type": "code",
   "execution_count": 20,
   "metadata": {},
   "outputs": [],
   "source": [
    "y_pred = model.predict(X_test)"
   ]
  },
  {
   "cell_type": "code",
   "execution_count": 21,
   "metadata": {},
   "outputs": [],
   "source": [
    "# Scale data back\n",
    "y_true = y_test * y_scale\n",
    "y_pred_true = y_pred * y_scale"
   ]
  },
  {
   "cell_type": "code",
   "execution_count": 22,
   "metadata": {},
   "outputs": [
    {
     "data": {
      "image/png": "[encoded data removed]",
      "text/plain": [
       "<Figure size 576x360 with 1 Axes>"
      ]
     },
     "metadata": {},
     "output_type": "display_data"
    }
   ],
   "source": [
    "# Plot predictions\n",
    "plt.figure(figsize=(8,5))\n",
    "plt.plot(y_true[-96:], label=\"True output\")\n",
    "plt.plot(y_pred_true[-96:], label=\"Predicted output (3 hour forecast)\")\n",
    "plt.legend()\n",
    "plt.show()"
   ]
  },
  {
   "cell_type": "code",
   "execution_count": 23,
   "metadata": {},
   "outputs": [],
   "source": [
    "# Moving average helper function\n",
    "def moving_average(data, window_size):\n",
    "    series = pd.Series(data)\n",
    "    windows = series.rolling(window_size)\n",
    "    moving_averages = windows.mean()\n",
    "    moving_averages_list = moving_averages.tolist()\n",
    "    without_nans = moving_averages_list[window_size-1:]\n",
    "    \n",
    "    return without_nans"
   ]
  },
  {
   "cell_type": "code",
   "execution_count": 26,
   "metadata": {},
   "outputs": [],
   "source": [
    "# Take moving averages to smoothen curves\n",
    "window_size = 5\n",
    "\n",
    "y_true_ma = moving_average(y_true[:, 0], window_size)\n",
    "y_true_pred_ma = moving_average(y_pred_true[:, 0], window_size)"
   ]
  },
  {
   "cell_type": "code",
   "execution_count": 31,
   "metadata": {},
   "outputs": [
    {
     "data": {
      "image/png": "[encoded data removed]",
      "text/plain": [
       "<Figure size 576x360 with 1 Axes>"
      ]
     },
     "metadata": {},
     "output_type": "display_data"
    }
   ],
   "source": [
    "# Plot moving averages\n",
    "plt.figure(figsize=(8,5))\n",
    "plt.plot(y_true_ma[-600:-240], label=\"True output\")\n",
    "plt.plot(y_true_pred_ma[-600:-240], label=\"Predicted output (3 hr forecast)\")\n",
    "plt.xlabel(\"Hours\")\n",
    "plt.ylabel(\"Output in kWh\")\n",
    "plt.legend()\n",
    "plt.show()"
   ]
  },
  {
   "cell_type": "code",
   "execution_count": null,
   "metadata": {},
   "outputs": [],
   "source": []
  }
 ],
 "metadata": {
  "kernelspec": {
   "display_name": "Python 3",
   "language": "python",
   "name": "python3"
  },
  "language_info": {
   "codemirror_mode": {
    "name": "ipython",
    "version": 3
   },
   "file_extension": ".py",
   "mimetype": "text/x-python",
   "name": "python",
   "nbconvert_exporter": "python",
   "pygments_lexer": "ipython3",
   "version": "3.7.6"
  }
 },
 "nbformat": 4,
 "nbformat_minor": 4
}
